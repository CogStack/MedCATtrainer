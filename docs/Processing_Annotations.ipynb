{
 "cells": [
  {
   "cell_type": "markdown",
   "metadata": {},
   "source": [
    "# Processing MedCATTrainer Annotations\n",
    "A short notebook to demonstrate the MedCATTrainer downloaded annotations schema. Both w/ and w/o text have the same format, except from the source text. "
   ]
  },
  {
   "cell_type": "code",
   "execution_count": 4,
   "metadata": {},
   "outputs": [],
   "source": [
    "import pandas as pd\n",
    "import json"
   ]
  },
  {
   "cell_type": "code",
   "execution_count": 5,
   "metadata": {},
   "outputs": [],
   "source": [
    "# Load the annotations for all projects\n",
    "projs = json.load(open('example_data/MedCAT_Export_With_Text_2020-03-31_11_42_07.json'))['projects']"
   ]
  },
  {
   "cell_type": "code",
   "execution_count": 8,
   "metadata": {},
   "outputs": [],
   "source": [
    "# First (and only) project downloaded\n",
    "proj = projs[0]"
   ]
  },
  {
   "cell_type": "code",
   "execution_count": 60,
   "metadata": {},
   "outputs": [
    {
     "data": {
      "text/plain": [
       "dict_keys(['name', 'id', 'cuis', 'tuis', 'documents'])"
      ]
     },
     "execution_count": 60,
     "metadata": {},
     "output_type": "execute_result"
    }
   ],
   "source": [
    "# project level cui / tui filters are top level dict keys\n",
    "proj.keys()"
   ]
  },
  {
   "cell_type": "code",
   "execution_count": 40,
   "metadata": {},
   "outputs": [
    {
     "name": "stdout",
     "output_type": "stream",
     "text": [
      "# of Documents: 2\n",
      "# of Annotations: 286\n",
      "# Validated Annotations: 286\n",
      "# Correct Annotations: 98\n",
      "# Correct Annotations: 185\n",
      "# Correct Annotations: 0\n",
      "# Correct Annotations: 1\n",
      "# Correct Annotations: 3\n"
     ]
    }
   ],
   "source": [
    "# Annotations are found inside each document.\n",
    "print(f'# of Documents: {len(proj[\"documents\"])}')\n",
    "print(f'# of Annotations: {sum([len(d[\"annotations\"]) for d in proj[\"documents\"]])}')\n",
    "\n",
    "# Annotations that have been marked by a human annotator\n",
    "print(f'# Validated Annotations: {len([a for d in proj[\"documents\"] for a in d[\"annotations\"] if a[\"validated\"] == True])}')\n",
    "\n",
    "# Annotations that have been marked correct - (blue) \n",
    "print(f'# Correct Annotations: {len([a for d in proj[\"documents\"] for a in d[\"annotations\"] if a[\"correct\"] == True])}')\n",
    "\n",
    "# Annotations that have been marked incorrect  - (red)\n",
    "print(f'# Correct Annotations: {len([a for d in proj[\"documents\"] for a in d[\"annotations\"] if a[\"deleted\"] == True])}')\n",
    "\n",
    "# Annotations that have been marked terminated - (dark red)\n",
    "print(f'# Correct Annotations: {len([a for d in proj[\"documents\"] for a in d[\"annotations\"] if a[\"killed\"] == True])}')\n",
    "\n",
    "# Annotations that have been marked alternative - (turquoise)\n",
    "print(f'# Correct Annotations: {len([a for d in proj[\"documents\"] for a in d[\"annotations\"] if a[\"alternative\"] == True])}')\n",
    "\n",
    "# Annotations that have been manually created via right-click - 'Add Annotation', these will also be 'correct' == True\n",
    "print(f'# Correct Annotations: {len([a for d in proj[\"documents\"] for a in d[\"annotations\"] if a[\"manually_created\"] == True])}')"
   ]
  },
  {
   "cell_type": "markdown",
   "metadata": {},
   "source": [
    "### Meta Annotations \n",
    "Each Meta Annotation will have the names of the task and associated values you've previously selected.\n"
   ]
  },
  {
   "cell_type": "code",
   "execution_count": null,
   "metadata": {},
   "outputs": [],
   "source": [
    "## Correct Annotations that are Correct and Meta Annotation Temporarilty - Present, Experiencer - Patient"
   ]
  },
  {
   "cell_type": "code",
   "execution_count": 59,
   "metadata": {},
   "outputs": [
    {
     "data": {
      "text/html": [
       "<div>\n",
       "<style scoped>\n",
       "    .dataframe tbody tr th:only-of-type {\n",
       "        vertical-align: middle;\n",
       "    }\n",
       "\n",
       "    .dataframe tbody tr th {\n",
       "        vertical-align: top;\n",
       "    }\n",
       "\n",
       "    .dataframe thead th {\n",
       "        text-align: right;\n",
       "    }\n",
       "</style>\n",
       "<table border=\"1\" class=\"dataframe\">\n",
       "  <thead>\n",
       "    <tr style=\"text-align: right;\">\n",
       "      <th></th>\n",
       "      <th>doc_name</th>\n",
       "      <th>anno_value</th>\n",
       "      <th>cui</th>\n",
       "    </tr>\n",
       "  </thead>\n",
       "  <tbody>\n",
       "    <tr>\n",
       "      <td>0</td>\n",
       "      <td>Subject 7</td>\n",
       "      <td>female</td>\n",
       "      <td>S-259051005</td>\n",
       "    </tr>\n",
       "    <tr>\n",
       "      <td>1</td>\n",
       "      <td>Subject 7</td>\n",
       "      <td>discoid lateral meniscus</td>\n",
       "      <td>S-202099003</td>\n",
       "    </tr>\n",
       "    <tr>\n",
       "      <td>2</td>\n",
       "      <td>Subject 7</td>\n",
       "      <td>collateral ligament</td>\n",
       "      <td>S-457008</td>\n",
       "    </tr>\n",
       "    <tr>\n",
       "      <td>3</td>\n",
       "      <td>Subject 7</td>\n",
       "      <td>consistent with</td>\n",
       "      <td>S-7883008</td>\n",
       "    </tr>\n",
       "    <tr>\n",
       "      <td>4</td>\n",
       "      <td>Subject 7</td>\n",
       "      <td>complete tear</td>\n",
       "      <td>S-263722006</td>\n",
       "    </tr>\n",
       "  </tbody>\n",
       "</table>\n",
       "</div>"
      ],
      "text/plain": [
       "    doc_name                anno_value          cui\n",
       "0  Subject 7                    female  S-259051005\n",
       "1  Subject 7  discoid lateral meniscus  S-202099003\n",
       "2  Subject 7       collateral ligament     S-457008\n",
       "3  Subject 7           consistent with    S-7883008\n",
       "4  Subject 7             complete tear  S-263722006"
      ]
     },
     "execution_count": 59,
     "metadata": {},
     "output_type": "execute_result"
    }
   ],
   "source": [
    "annos = []\n",
    "for doc in proj['documents']:\n",
    "    for a in doc['annotations']:\n",
    "        meta_anns = a['meta_anns']\n",
    "        if a['correct'] == True and len(meta_anns) != 0:\n",
    "            # meta_anns are a list of dictionaries, each dict is a meta annotation. Order is not neccessarily consistent\n",
    "            temporality = [m for m in meta_anns if m['name'] == 'Temporality'][0]\n",
    "            experiencer = [m for m in meta_anns if m['name'] == 'Experiencer'][0]\n",
    "            if temporality['value'] == 'Current' and experiencer['value'] == 'Patient':\n",
    "                # pull out the doc_name, the text span value, and the concept\n",
    "                annos.append({'doc_name': doc['name'], 'anno_value': a['value'], 'cui': a['cui']})\n",
    "# make DataFrame\n",
    "df = pd.DataFrame(annos)\n",
    "df.head(5)"
   ]
  }
 ],
 "metadata": {
  "kernelspec": {
   "display_name": "Python 3",
   "language": "python",
   "name": "python3"
  },
  "language_info": {
   "codemirror_mode": {
    "name": "ipython",
    "version": 3
   },
   "file_extension": ".py",
   "mimetype": "text/x-python",
   "name": "python",
   "nbconvert_exporter": "python",
   "pygments_lexer": "ipython3",
   "version": "3.7.4"
  }
 },
 "nbformat": 4,
 "nbformat_minor": 4
}
