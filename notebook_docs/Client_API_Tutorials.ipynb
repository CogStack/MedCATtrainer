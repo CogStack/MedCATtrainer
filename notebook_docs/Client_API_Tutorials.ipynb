{
 "cells": [
  {
   "cell_type": "markdown",
   "metadata": {},
   "source": [
    "# Client API Tutorial\n",
    "\n",
    "This notebook demonstrates how to use the `MedCATTrainerSession` class to interact with the MedCATTrainer API. We'll cover:\n",
    "\n",
    "1. Setting up a MedCATTrainer session\n",
    "2. Exploring available resources (users, datasets, models)\n",
    "3. Creating new resources (datasets, models, users)\n",
    "4. Creating annotation projects with different approaches\n",
    "5. Downloading and saving annotations\n",
    "\n",
    "These steps provide a complete workflow for programmatically managing medical text annotation projects with MedCATTrainer."
   ]
  },
  {
   "cell_type": "markdown",
   "metadata": {},
   "source": [
    "<u>__SETUP:__</u>\n",
    "\n",
    "You need to have [MedCATtrainer service running locally](http://localhost:8001/)\n",
    "\n",
    "The default credentials when setup is:\n",
    "\n",
    "```bash\n",
    "username: admin\n",
    "password: admin\n",
    "```\n",
    "\n",
    "The administrative console can be found here: http://localhost:8001/admin/\n",
    "\n",
    "Within this admin console is where you can manually interact the the MedCATtrainer program and setup projects\n",
    "\n",
    "\n"
   ]
  },
  {
   "cell_type": "markdown",
   "metadata": {},
   "source": [
    "## 1. Setup and Authentication\n",
    "\n",
    "First, let's import the necessary classes and set up our session:"
   ]
  },
  {
   "cell_type": "code",
   "execution_count": 5,
   "metadata": {},
   "outputs": [],
   "source": [
    "import os\n",
    "import json\n",
    "import sys\n",
    "sys.path.append('../client')\n",
    "from mctclient import MedCATTrainerSession, MCTDataset, MCTConceptDB, MCTVocab, MCTModelPack, MCTUser, MCTProject"
   ]
  },
  {
   "cell_type": "code",
   "execution_count": 6,
   "metadata": {},
   "outputs": [],
   "source": [
    "# Initialize the session\n",
    "\n",
    "# Set environment variables for authentication, These are default and are optional.\n",
    "os.environ['MCTRAINER_USERNAME'] = 'admin'\n",
    "os.environ['MCTRAINER_PASSWORD'] = 'admin'\n",
    "mct_server = 'http://localhost:8001' # Default server is http://localhost:8001 if not specified\n",
    "# session = MedCATTrainerSession()\n",
    "\n",
    "# Initialize the session and change explicit arguements if required.\n",
    "session = MedCATTrainerSession(server=mct_server, username='admin', password='admin') # Wrapper for the MedCATTrainer API."
   ]
  },
  {
   "cell_type": "markdown",
   "metadata": {},
   "source": [
    "## 2. Explore Available Resources\n",
    "\n",
    "Let's check what resources are already available in the MedCATTrainer instance:"
   ]
  },
  {
   "cell_type": "code",
   "execution_count": 7,
   "metadata": {},
   "outputs": [
    {
     "name": "stdout",
     "output_type": "stream",
     "text": [
      "Users:\n",
      "3 : annotator2\n",
      "2 : annotator1\n",
      "1 : admin\n",
      "\n",
      "Datasets:\n",
      "1 : Example Dataset \t http://localhost:8001/media/Example_Dataset.csv\n",
      "2 : Neurology Notes \t http://localhost:8001/media/neurology_notes.csv\n",
      "3 : SG-example-docs \t http://localhost:8001/media/sg-sample-docs.csv\n",
      "\n",
      "Concept DBs:\n",
      "1 : umls_cdb \t http://localhost:8001/media/cdb.dat\n",
      "2 : snomed_cdb \t http://localhost:8001/media/snomed-cdb.dat\n",
      "3 : snomed_2022_modelpack_CDB \t http://localhost:8001/media/Users/k1897038/projects/MedCATtrainer/webapp/api/media/20230227__kch_gstt_trained_model_494c3717f637bb89/cdb.dat\n",
      "8 : medcat_full_pack_CDB \t http://localhost:8001/media/Users/k1897038/projects/MedCATtrainer/webapp/api/media/medcat_model_pack_u3fB9G5/cdb.dat\n",
      "12 : snomed-2023-bert-metacats_CDB \t http://localhost:8001/media/Users/k1897038/projects/MedCATtrainer/webapp/api/media/20230227__kch_gstt_trained_model_bert_metacats_138689a7bb83cb0a/cdb.dat\n",
      "13 : de_id_modelpack_CDB \t http://localhost:8001/media/Users/k1897038/projects/MedCATtrainer/webapp/api/media/medcat_deid_trained_a7120281ebb9fc9e/cdb.dat\n",
      "\n",
      "Vocabularies:\n",
      "1 : http://localhost:8001/media/vocab.dat\n",
      "3 : http://localhost:8001/media/20230227__kch_gstt_trained_model_494c3717f637bb89/vocab.dat\n",
      "12 : http://localhost:8001/media/20230227__kch_gstt_trained_model_bert_metacats_138689a7bb83cb0a/vocab.dat\n",
      "\n",
      "ModelPacks:\n",
      "1 : snomed_2022_modelpack \t http://localhost:8001/media/20230227__kch_gstt_trained_model_494c3717f637bb89.zip\n",
      "9 : snomed-2023-bert-metacats \t http://localhost:8001/media/20230227__kch_gstt_trained_model_bert_metacats_138689a7bb83cb0a.zip\n",
      "10 : de-id modelpack \t http://localhost:8001/media/medcat_deid_trained_a7120281ebb9fc9e.zip\n",
      "\n",
      "Meta Tasks:\n",
      "1 : Experiencer\n",
      "2 : Presence\n",
      "3 : Subject\n",
      "4 : Temporality\n",
      "5 : Time\n",
      "\n",
      "Relation Tasks:\n",
      "1 : Spatial\n"
     ]
    }
   ],
   "source": [
    "# Get users\n",
    "users = session.get_users()\n",
    "print(\"Users:\")\n",
    "for user in users:\n",
    "    print(user)\n",
    "print()\n",
    "\n",
    "# Get datasets\n",
    "datasets = session.get_datasets()\n",
    "print(\"Datasets:\")\n",
    "for dataset in datasets:\n",
    "    print(dataset)\n",
    "print()\n",
    "\n",
    "# Get concept databases and vocabularies\n",
    "concept_dbs, vocabs = session.get_models()\n",
    "print(\"Concept DBs:\")\n",
    "for cdb in concept_dbs:\n",
    "    print(cdb)\n",
    "print()\n",
    "print(\"Vocabularies:\")\n",
    "for vocab in vocabs:\n",
    "    print(vocab)\n",
    "print()\n",
    "\n",
    "# Get modelpacks\n",
    "model_packs = session.get_model_packs()\n",
    "print(\"ModelPacks:\")\n",
    "for model_pack in model_packs:\n",
    "    print(model_pack)\n",
    "print()\n",
    "\n",
    "# Get meta tasks\n",
    "meta_tasks = session.get_meta_tasks()\n",
    "print(\"Meta Tasks:\")\n",
    "for i, task in enumerate(meta_tasks):\n",
    "    print(f\"{i+1} : {task.name}\")\n",
    "print()\n",
    "\n",
    "# Get relation tasks\n",
    "rel_tasks = session.get_rel_tasks()\n",
    "print(\"Relation Tasks:\")\n",
    "for i, task in enumerate(rel_tasks):\n",
    "    print(f\"{i+1} : {task.name}\")"
   ]
  },
  {
   "cell_type": "markdown",
   "metadata": {},
   "source": [
    "## 3. Upload new resources to MedCATtrainer\n",
    "\n",
    "Before we create a project we need to create and upload all the required resources. We'll start with a dataset:\n"
   ]
  },
  {
   "cell_type": "code",
   "execution_count": null,
   "metadata": {},
   "outputs": [],
   "source": [
    "# Create a new dataset to be annotated.\n",
    "neurology_dataset = session.create_dataset(\n",
    "    name=\"Neurology Notes\",  # Names must be unique\n",
    "    dataset_file=\"./example_data/neuro.csv\"  # This csv should have atleast these 2 columns. [\"name\", \"text\"]\n",
    ")\n",
    "print(f\"Created dataset: {neurology_dataset}\")"
   ]
  },
  {
   "cell_type": "markdown",
   "metadata": {},
   "source": [
    "### 3.1 Creating MedCAT Models\n",
    "\n",
    "We have two options for creating models:\n",
    "\n",
    "1. Upload separate CDB and Vocab files\n",
    "2. Upload a complete model pack ZIP\n",
    "\n",
    "Let's explore both approaches:"
   ]
  },
  {
   "cell_type": "code",
   "execution_count": null,
   "metadata": {},
   "outputs": [],
   "source": [
    "# If you don't have these medcat components or modelpack. You can download an example here:\n",
    "# Download vocab.dat\n",
    "!wget -O ./example_data/vocab.dat https://cogstack-medcat-example-models.s3.eu-west-2.amazonaws.com/medcat-example-models/vocab.dat\n",
    "# Download snomed-cdb-mc-v1.cdb\n",
    "!wget -O ./example_data/snomed-cdb-mc-v1.cdb https://cogstack-medcat-example-models.s3.eu-west-2.amazonaws.com/medcat-example-models/snomed-cdb-mc-v1.cdb\n",
    "# Download model pack (this is a zip file)\n",
    "!wget -O ./example_data/medcat_model_pack.zip https://cogstack-medcat-example-models.s3.eu-west-2.amazonaws.com/medcat-example-models/medcat_model_pack_c4e0d25701ce4e88.zip\n",
    "\n",
    "# Otherwise Skip this"
   ]
  },
  {
   "cell_type": "code",
   "execution_count": null,
   "metadata": {},
   "outputs": [],
   "source": [
    "# Option 1: Upload separate CDB and Vocab files\n",
    "example_cdb = MCTConceptDB(name=\"example_cdbv1\", conceptdb_file=\"./example_data/snomed-cdb-mc-v1.cdb\")\n",
    "example_vocab = MCTVocab(name=\"example_vocabv2\", vocab_file=\"./example_data/vocab.dat\")\n",
    "\n",
    "# Create the model in the MedCATTrainer instance\n",
    "cdb, vocab = session.create_medcat_model(example_cdb, example_vocab)\n",
    "print(f\"Created CDB: {cdb}\")\n",
    "print(f\"Created Vocab: {vocab}\")"
   ]
  },
  {
   "cell_type": "code",
   "execution_count": null,
   "metadata": {},
   "outputs": [],
   "source": [
    "# Option 2: Upload a complete modelpack ZIP\n",
    "# This contains CDB, Vocab, and potentially MetaCAT and RelCAT models\n",
    "medcat_model_pack = MCTModelPack(\n",
    "    name=\"medcat_full_pack\",\n",
    "    model_pack_zip=\"./medcat_model_pack.zip\"\n",
    ")\n",
    "session.create_medcat_model_pack(medcat_model_pack)\n",
    "print(f\"Created model pack: {medcat_model_pack}\")"
   ]
  },
  {
   "cell_type": "markdown",
   "metadata": {},
   "source": [
    "### 3.2 Creating a New User\n",
    "\n",
    "If we need to add an annotator to our project:"
   ]
  },
  {
   "cell_type": "code",
   "execution_count": null,
   "metadata": {},
   "outputs": [],
   "source": [
    "new_user = session.create_user(username=\"annotator1\", password=\"secure_password\")\n",
    "print(f\"Created user: {new_user}\")"
   ]
  },
  {
   "cell_type": "markdown",
   "metadata": {},
   "source": [
    "## 4. Creating Annotation Projects\n",
    "\n",
    "Now we can create annotation projects using our resources:\n",
    "\n",
    "But first, Let's check again what resources are now available in the MedCATTrainer instance after Part 3:"
   ]
  },
  {
   "cell_type": "code",
   "execution_count": null,
   "metadata": {},
   "outputs": [],
   "source": [
    "# Get users\n",
    "users = session.get_users()\n",
    "print(\"Users:\")\n",
    "for user in users:\n",
    "    print(user)\n",
    "print()\n",
    "\n",
    "# Get datasets\n",
    "datasets = session.get_datasets()\n",
    "print(\"Datasets:\")\n",
    "for dataset in datasets:\n",
    "    print(dataset)\n",
    "print()\n",
    "\n",
    "# Get concept databases and vocabularies\n",
    "concept_dbs, vocabs = session.get_models()\n",
    "print(\"Concept DBs:\")\n",
    "for cdb in concept_dbs:\n",
    "    print(cdb)\n",
    "print()\n",
    "print(\"Vocabularies:\")\n",
    "for vocab in vocabs:\n",
    "    print(vocab)\n",
    "print()\n",
    "\n",
    "# Get modelpacks\n",
    "model_packs = session.get_model_packs()\n",
    "print(\"ModelPacks:\")\n",
    "for model_pack in model_packs:\n",
    "    print(model_pack)\n",
    "print()\n",
    "\n",
    "# Get meta tasks\n",
    "meta_tasks = session.get_meta_tasks()\n",
    "print(\"Meta Tasks:\")\n",
    "for i, task in enumerate(meta_tasks):\n",
    "    print(f\"{i+1} : {task.name}\")\n",
    "print()\n",
    "\n",
    "# Get relation tasks\n",
    "rel_tasks = session.get_rel_tasks()\n",
    "print(\"Relation Tasks:\")\n",
    "for i, task in enumerate(rel_tasks):\n",
    "    print(f\"{i+1} : {task.name}\")\n"
   ]
  },
  {
   "cell_type": "code",
   "execution_count": null,
   "metadata": {},
   "outputs": [],
   "source": [
    "# Method 1: Create a project with separate CDB and Vocab\n",
    "neuro_project = session.create_project(\n",
    "    name=\"Neurology Annotation Project\",\n",
    "    description=\"Demo annotation project of neurology conditions, epilepsy & seizure\",\n",
    "    members=[user for user in users],  # Add all users...\n",
    "    dataset=datasets[-1],\n",
    "    concept_db=concept_dbs[-1],\n",
    "    vocab=vocabs[-1],\n",
    "    cuis=[\"84757009\", \"91175000\"],  # Whitelist Filter CUIs/concepts\n",
    "    #meta_tasks=[\"Temporality\", \"Certainty\"],  # Can specify by name or by object\n",
    "    #rel_tasks=[\"Has_Finding\"] # only add this relational extraction task if absolutely required\n",
    ")\n",
    "\n",
    "print(f\"Created project: {neuro_project}\")"
   ]
  },
  {
   "cell_type": "code",
   "execution_count": null,
   "metadata": {},
   "outputs": [],
   "source": [
    "# Method 2: Create a project with a modelpack\n",
    "\n",
    "# Rerun the explore resources to run the following code:\n",
    "general_project = session.create_project(\n",
    "    name=\"Demo General Medical Annotation\",\n",
    "    description=\"Annotation of neurology medical conditions\",\n",
    "    members=[user for user in users],  # All users\n",
    "    dataset=datasets[-1],  # Use existing dataset\n",
    "    modelpack=model_packs[-1],  # Use existing model pack\n",
    "    # cuis_file=\"./resources/mct_filter.json\",  # Load whitelist concepts from a file [\"concept1\", \"concept2\"]\n",
    ")\n",
    "\n",
    "print(f\"Created project with model pack: {general_project}\")"
   ]
  },
  {
   "cell_type": "markdown",
   "metadata": {},
   "source": [
    "## 5. Retrieving Project Annotations\n",
    "\n",
    "After annotators have worked on the projects, we can download the annotations:"
   ]
  },
  {
   "cell_type": "code",
   "execution_count": null,
   "metadata": {},
   "outputs": [],
   "source": [
    "# Get all projects\n",
    "mct_projects = session.get_projects()\n",
    "\n",
    "# Download annotations for all projects\n",
    "projects = session.get_project_annos(mct_projects)\n",
    "\n",
    "print(f\"Downloaded annotations for {len(mct_projects)} projects:\")\n",
    "for p in projects['projects']:\n",
    "    print(p['name'])"
   ]
  },
  {
   "cell_type": "code",
   "execution_count": null,
   "metadata": {},
   "outputs": [],
   "source": [
    "# Inspect all details from a single export\n",
    "projects['projects'][0]"
   ]
  },
  {
   "cell_type": "markdown",
   "metadata": {},
   "source": [
    "## 6. Saving Annotations for Analysis\n",
    "\n",
    "Finally, let's save the annotations to a file for later analysis:"
   ]
  },
  {
   "cell_type": "code",
   "execution_count": null,
   "metadata": {},
   "outputs": [],
   "source": [
    "# Save MCT export / annotations to a file\n",
    "with open(\"./example_data/medical_annotations.json\", \"w\") as f:\n",
    "    json.dump(projects, f, indent=2)\n",
    "\n",
    "print(\"Annotations saved to ./example_data/medical_annotations.json\")"
   ]
  },
  {
   "cell_type": "markdown",
   "metadata": {},
   "source": [
    "# End of Tutorial"
   ]
  }
 ],
 "metadata": {
  "kernelspec": {
   "display_name": "bioext-medcat-env",
   "language": "python",
   "name": "python3"
  },
  "language_info": {
   "codemirror_mode": {
    "name": "ipython",
    "version": 3
   },
   "file_extension": ".py",
   "mimetype": "text/x-python",
   "name": "python",
   "nbconvert_exporter": "python",
   "pygments_lexer": "ipython3",
   "version": "3.11.11"
  }
 },
 "nbformat": 4,
 "nbformat_minor": 4
}
