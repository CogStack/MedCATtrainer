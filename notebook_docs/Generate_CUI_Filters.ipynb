{
 "cells": [
  {
   "cell_type": "code",
   "execution_count": 5,
   "metadata": {},
   "outputs": [],
   "source": [
    "from glob import glob\n",
    "import pandas as pd\n",
    "from collections import defaultdict\n",
    "import json"
   ]
  },
  {
   "cell_type": "markdown",
   "metadata": {},
   "source": [
    "# Generate a CUI List for a Given 'Parent' Concept\n",
    "- all Children of 'cardiac finding', SCTID: 106063007\n",
    "- For medcat v0.x and medcat v1.x"
   ]
  },
  {
   "cell_type": "markdown",
   "metadata": {},
   "source": [
    "Relation file from SNOMED-CT Preprocessing tutorial: https://github.com/CogStack/MedCATtutorials/blob/main/notebooks/specialised/Preprocessing_SNOMED_CT.ipynb, \n",
    "\n",
    "In section \"SNOMED Relationships\"\n"
   ]
  },
  {
   "cell_type": "code",
   "execution_count": 10,
   "metadata": {},
   "outputs": [],
   "source": [
    "rels = json.load(open('isa_rela_ch2pt_20200228.txt'))"
   ]
  },
  {
   "cell_type": "code",
   "execution_count": 44,
   "metadata": {},
   "outputs": [],
   "source": [
    "# remove the S- if exists\n",
    "rels = {k[2:]: [v_i[2:] for v_i in v] for k,v in rels.items()}"
   ]
  },
  {
   "cell_type": "code",
   "execution_count": 48,
   "metadata": {},
   "outputs": [],
   "source": [
    "class Node():\n",
    "    def __init__(self, sctid, name):\n",
    "        self.sctid = sctid\n",
    "        self.name = name\n",
    "        self.parents = {}\n",
    "        self.children = {}\n",
    "    \n",
    "    def __repr__(self):\n",
    "        parents_str = \"\\n\\t\".join(f\"{p.sctid}:{p.name}\" for p in self.parents.values())\n",
    "        children_str = \"\\n\\t\".join([f\"{c.sctid}:{c.name}\" for c in self.children.values()])\n",
    "        return f'{self.sctid}: {self.name}\\n' +\\\n",
    "            f'Parents:\\n\\t{parents_str}\\n' +\\\n",
    "            f'Children:\\n\\t{children_str}\\n' "
   ]
  },
  {
   "cell_type": "code",
   "execution_count": 49,
   "metadata": {},
   "outputs": [],
   "source": [
    "def all_children(node: Node):\n",
    "    def collect(nodes, collected_nodes):\n",
    "        for n in nodes:\n",
    "            collected_nodes.append(n)\n",
    "            if len(n.children.values()) > 0:\n",
    "                collected_nodes.extend(collect(n.children.values(), []))\n",
    "        return collected_nodes\n",
    "        \n",
    "    all_children = []\n",
    "    collect(node.children.values(), all_children)\n",
    "    return all_children"
   ]
  },
  {
   "cell_type": "code",
   "execution_count": 52,
   "metadata": {},
   "outputs": [],
   "source": [
    "valid_rels = {k:v for k,v in rels.items() if k in cdb.cui2preferred_name}"
   ]
  },
  {
   "cell_type": "code",
   "execution_count": 55,
   "metadata": {},
   "outputs": [],
   "source": [
    "all_nodes = {}\n",
    "def set_rels(node, parent_ids):\n",
    "    for p_id in parent_ids:\n",
    "        if p_id in all_nodes:\n",
    "            parent_node = all_nodes[p_id]\n",
    "            node.parents[parent_node.sctid] = parent_node\n",
    "            parent_node.children[node.sctid] = node\n",
    "        else:\n",
    "            if p_id not in cdb.cui2preferred_name:\n",
    "                continue\n",
    "            parent_node = Node(p_id, cdb.cui2preferred_name[p_id])\n",
    "            node.parents[parent_node.sctid] = parent_node\n",
    "            all_nodes[parent_node.sctid] = parent_node\n",
    "            parent_node.children[node.sctid] = node\n",
    "        if parent_node.sctid in valid_rels:\n",
    "            set_rels(parent_node, valid_rels[parent_node.sctid])\n",
    "    \n",
    "for sctid, name in cdb.cui2preferred_name.items():\n",
    "    n = all_nodes.get(sctid, Node(sctid, name))\n",
    "    all_nodes[sctid] = n\n",
    "    # add parents / children\n",
    "    if sctid in valid_rels:\n",
    "        set_rels(n, valid_rels[sctid])"
   ]
  },
  {
   "cell_type": "code",
   "execution_count": 58,
   "metadata": {},
   "outputs": [],
   "source": [
    "# Disorder of cardiovascular system (disorder) SCTID: 49601007\n",
    "chlds = all_children(all_nodes['49601007'])\n",
    "disorder_sctids = [c.sctid for c in set(chlds)]"
   ]
  },
  {
   "cell_type": "code",
   "execution_count": 60,
   "metadata": {},
   "outputs": [],
   "source": [
    "chlds = all_children(all_nodes['301095005'])\n",
    "finding_sctids = [c.sctid for c in set(chlds)]"
   ]
  },
  {
   "cell_type": "code",
   "execution_count": 61,
   "metadata": {},
   "outputs": [],
   "source": [
    "all_ids = set(disorder_sctids) | set(finding_sctids)"
   ]
  },
  {
   "cell_type": "code",
   "execution_count": 154,
   "metadata": {},
   "outputs": [],
   "source": [
    "# mcv1_ids = [v[2:] for v in all_ids]"
   ]
  },
  {
   "cell_type": "code",
   "execution_count": 65,
   "metadata": {},
   "outputs": [
    {
     "data": {
      "text/plain": [
       "739788"
      ]
     },
     "execution_count": 65,
     "metadata": {},
     "output_type": "execute_result"
    }
   ],
   "source": [
    "len(cdb.cui2names)"
   ]
  },
  {
   "cell_type": "code",
   "execution_count": 157,
   "metadata": {},
   "outputs": [],
   "source": [
    "json.dump(list(mcv1_ids), open('cardio_disorder_finding_sctids_mcv1.json', 'w'))"
   ]
  },
  {
   "cell_type": "code",
   "execution_count": 149,
   "metadata": {},
   "outputs": [],
   "source": [
    "json.dump(list(all_ids), open('cardio_disorder_finding_sctids.json', 'w'))"
   ]
  },
  {
   "cell_type": "code",
   "execution_count": 166,
   "metadata": {},
   "outputs": [],
   "source": [
    "sctids = json.load(open('cardio_disorder_finding_sctids.json'))\n",
    "pretty_names = [cdb.cui2pretty_name[s_id] for s_id in sctids]"
   ]
  },
  {
   "cell_type": "code",
   "execution_count": 28,
   "metadata": {},
   "outputs": [],
   "source": [
    "snomed_browser_links = [f'https://termbrowser.nhs.uk/?perspective=full&conceptId1={sct_id.replace(\"S-\", \"\")}&edition=uk-edition&release=v20210317&server=' +\n",
    "                        'https://termbrowser.nhs.uk/sct-browser-api/snomed&langRefset=999001261000000100,999000691000001104' for sct_id in sctids]"
   ]
  },
  {
   "cell_type": "code",
   "execution_count": 30,
   "metadata": {},
   "outputs": [],
   "source": [
    "pd.DataFrame({'SCTIDs': sctids, 'Concept Name': pretty_names, 'Browser Link': snomed_browser_links}).to_csv('cardio_disorder_concepts.csv')"
   ]
  },
  {
   "cell_type": "code",
   "execution_count": null,
   "metadata": {},
   "outputs": [],
   "source": []
  }
 ],
 "metadata": {
  "kernelspec": {
   "display_name": "Python [conda env:cattrainer]",
   "language": "python",
   "name": "conda-env-cattrainer-py"
  },
  "language_info": {
   "codemirror_mode": {
    "name": "ipython",
    "version": 3
   },
   "file_extension": ".py",
   "mimetype": "text/x-python",
   "name": "python",
   "nbconvert_exporter": "python",
   "pygments_lexer": "ipython3",
   "version": "3.7.0"
  }
 },
 "nbformat": 4,
 "nbformat_minor": 4
}
